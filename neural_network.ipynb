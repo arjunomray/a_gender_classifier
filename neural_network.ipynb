{
 "cells": [
  {
   "cell_type": "markdown",
   "metadata": {},
   "source": [
    "# Learning about neural networks"
   ]
  },
  {
   "cell_type": "markdown",
   "metadata": {},
   "source": [
    "## importing libs"
   ]
  },
  {
   "cell_type": "code",
   "execution_count": 1,
   "metadata": {},
   "outputs": [],
   "source": [
    "import numpy as np"
   ]
  },
  {
   "cell_type": "markdown",
   "metadata": {},
   "source": [
    "## Create an a activation function\n",
    "\n",
    "here, we are going to be working with the sigmoid function"
   ]
  },
  {
   "cell_type": "code",
   "execution_count": 2,
   "metadata": {},
   "outputs": [],
   "source": [
    "def sigmoid(x):\n",
    "    return 1 / (1 + np.exp(-x))"
   ]
  },
  {
   "cell_type": "markdown",
   "metadata": {},
   "source": [
    "## Creating nodes\n",
    "\n",
    "Create a single node which takes an input processes it weights and bias and runs and activation function over it"
   ]
  },
  {
   "cell_type": "code",
   "execution_count": 4,
   "metadata": {},
   "outputs": [],
   "source": [
    "class Neuron:\n",
    "    def __init__(self, weights, bias):\n",
    "        self.weights = weights\n",
    "        self.bias = bias\n",
    "    \n",
    "    def feedforward(self, x):\n",
    "        total = np.dot(self.weights, x) + self.bias\n",
    "        return sigmoid(total)"
   ]
  },
  {
   "cell_type": "markdown",
   "metadata": {},
   "source": [
    "## Testing\n",
    "\n",
    "lets check if it is actually working"
   ]
  },
  {
   "cell_type": "code",
   "execution_count": 6,
   "metadata": {},
   "outputs": [
    {
     "data": {
      "text/plain": [
       "0.9990889488055994"
      ]
     },
     "execution_count": 6,
     "metadata": {},
     "output_type": "execute_result"
    }
   ],
   "source": [
    "x = np.array([2, 3])\n",
    "\n",
    "n = Neuron([0, 1], 4)\n",
    "\n",
    "n.feedforward(x)"
   ]
  },
  {
   "cell_type": "markdown",
   "metadata": {},
   "source": [
    "## Making a Neural Network\n",
    "We combine multiple of these neurons (or nodes) to make a neural network"
   ]
  },
  {
   "cell_type": "code",
   "execution_count": 10,
   "metadata": {},
   "outputs": [],
   "source": [
    "class NeuralNetwork:\n",
    "    def __init__(self):\n",
    "        weights = np.array([0, 1])\n",
    "        bias = 0\n",
    "\n",
    "        self.h1 = Neuron(weights, bias)\n",
    "        self.h2 = Neuron(weights, bias)\n",
    "        self.o1 = Neuron(weights, bias)\n",
    "\n",
    "    def feedforward(self, x):\n",
    "        out_h1 = self.h1.feedforward(x)\n",
    "        out_h2 = self.h2.feedforward(x)\n",
    "\n",
    "        new_x = np.array([out_h1, out_h2])\n",
    "\n",
    "        return self.o1.feedforward(new_x)\n"
   ]
  },
  {
   "cell_type": "markdown",
   "metadata": {},
   "source": [
    "## Lets check if this is running properly"
   ]
  },
  {
   "cell_type": "code",
   "execution_count": 11,
   "metadata": {},
   "outputs": [
    {
     "data": {
      "text/plain": [
       "0.7216325609518421"
      ]
     },
     "execution_count": 11,
     "metadata": {},
     "output_type": "execute_result"
    }
   ],
   "source": [
    "nn = NeuralNetwork()\n",
    "\n",
    "nn.feedforward(np.array([2, 3]))"
   ]
  },
  {
   "cell_type": "markdown",
   "metadata": {},
   "source": [
    "## Training a neural network\n",
    "\n",
    "Training is done via a testing value. Here we are going to use the MSE(Mean Squared Error) to test against if the predicted values are close or not"
   ]
  },
  {
   "cell_type": "code",
   "execution_count": 12,
   "metadata": {},
   "outputs": [
    {
     "data": {
      "text/plain": [
       "0.5"
      ]
     },
     "execution_count": 12,
     "metadata": {},
     "output_type": "execute_result"
    }
   ],
   "source": [
    "def mse_loss(y_true, y_pred):\n",
    "    return ((y_true - y_pred)**2).mean()\n",
    "\n",
    "y_true = np.array([1, 0, 0, 1])\n",
    "y_pred = np.array([0, 0, 0, 0])\n",
    "\n",
    "mse_loss(y_true, y_pred)"
   ]
  },
  {
   "cell_type": "markdown",
   "metadata": {},
   "source": [
    "## Minimize the error\n",
    "The goal for use to train this neural network is to reduce this mse value\n",
    "\n",
    "we use partial derivatives to propagate the errors back to the beginning to update the weights of the neural network"
   ]
  },
  {
   "cell_type": "markdown",
   "metadata": {},
   "source": [
    "## Making a complete neural network"
   ]
  },
  {
   "cell_type": "markdown",
   "metadata": {},
   "source": [
    "Name    |\tWeight  (minus 135) |\tHeight (minus 66) |\tGender\n",
    "Alice   |\t-2                  |\t-1                |\t1\n",
    "Bob     |    25                 |\t6                 |\t0\n",
    "Charlie |\t17                  |\t4                 |\t0\n",
    "Diana   |\t-15                 |\t-6                |\t1"
   ]
  },
  {
   "cell_type": "code",
   "execution_count": 13,
   "metadata": {},
   "outputs": [],
   "source": [
    "def deriv_sigmoid(x):\n",
    "    fx = sigmoid(x)\n",
    "\n",
    "    return fx * (1 - fx)"
   ]
  },
  {
   "cell_type": "code",
   "execution_count": 14,
   "metadata": {},
   "outputs": [],
   "source": [
    "class CompleteNeuralNetwork(NeuralNetwork):\n",
    "    def __init__(self):\n",
    "        self.w1 = np.random.normal()\n",
    "        self.w2 = np.random.normal()\n",
    "        self.w3 = np.random.normal()\n",
    "        self.w4 = np.random.normal()\n",
    "        self.w5 = np.random.normal()\n",
    "        self.w6 = np.random.normal()\n",
    "\n",
    "        self.b1 = np.random.normal()\n",
    "        self.b2 = np.random.normal()\n",
    "        self.b3 = np.random.normal()\n",
    "\n",
    "    def feedforward(self, x):\n",
    "\n",
    "        h1 = sigmoid(self.w1*x[0] + self.w2*x[1] + self.b1)\n",
    "        h2 = sigmoid(self.w3*x[0] + self.w4*x[1] + self.b2)\n",
    "        o1 = sigmoid(self.w5*h1 + self.w6*h2 + self.b3)\n",
    "        return o1\n",
    "        \n",
    "    def train(self, data, all_y_trues):\n",
    "\n",
    "        learn_rate = 0.1\n",
    "        epochs = 1000\n",
    "\n",
    "        for epoch in range(epochs):\n",
    "            for x, y_true in zip(data, all_y_trues):\n",
    "                sum_h1 = self.w1 * x[0] + self.w2 * x[1] + self.b1\n",
    "                h1 = sigmoid(sum_h1)\n",
    "\n",
    "                sum_h2 = self.w3 * x[0] + self.w4 * x[1] + self.b2\n",
    "                h2 = sigmoid(sum_h2)\n",
    "\n",
    "                sum_o1 = self.w5 * h1 + self.w6 * h2 + self.b3\n",
    "                o1 = sigmoid(sum_o1)\n",
    "\n",
    "                y_pred = o1\n",
    "\n",
    "                d_L_d_ypred = -2 *(y_true - y_pred)\n",
    "                \n",
    "                #o1\n",
    "                d_ypred_d_w5  = h1 * deriv_sigmoid(sum_o1)\n",
    "                d_ypred_d_w6  = h2 * deriv_sigmoid(sum_o1)\n",
    "                d_ypred_d_b3  = deriv_sigmoid(sum_o1)\n",
    "\n",
    "                \n",
    "                d_ypred_d_h1  = self.w5 * deriv_sigmoid(sum_o1)\n",
    "                d_ypred_d_h2  = self.w6 * deriv_sigmoid(sum_o1)\n",
    "\n",
    "\n",
    "                #h1\n",
    "                d_h1_d_w1  = x[0] * deriv_sigmoid(sum_h1)\n",
    "                d_h1_d_w2  = x[1] * deriv_sigmoid(sum_h1)\n",
    "                d_h1_d_b1  = deriv_sigmoid(sum_h1)\n",
    "\n",
    "                #h2\n",
    "                d_h2_d_w3  = x[0] * deriv_sigmoid(sum_h2)\n",
    "                d_h2_d_w4  = x[1] * deriv_sigmoid(sum_h2)\n",
    "                d_h2_d_b2  = deriv_sigmoid(sum_h2)\n",
    "\n",
    "\n",
    "                ## Calculate the update value\n",
    "                # h1 updated\n",
    "                self.w1 -= learn_rate * d_L_d_ypred * d_ypred_d_h1 * d_h1_d_w1\n",
    "                self.w2 -= learn_rate * d_L_d_ypred * d_ypred_d_h1 * d_h1_d_w2\n",
    "                self.b1 -= learn_rate * d_L_d_ypred * d_ypred_d_h1 * d_h1_d_b1\n",
    "        \n",
    "                # h1 updated\n",
    "                self.w3 -= learn_rate * d_L_d_ypred * d_ypred_d_h2 * d_h2_d_w3\n",
    "                self.w4 -= learn_rate * d_L_d_ypred * d_ypred_d_h2 * d_h2_d_w4\n",
    "                self.b2 -= learn_rate * d_L_d_ypred * d_ypred_d_h2 * d_h2_d_b2\n",
    "\n",
    "                # o1 updated\n",
    "                self.w5 -= learn_rate * d_L_d_ypred * d_ypred_d_w5\n",
    "                self.w6 -= learn_rate * d_L_d_ypred * d_ypred_d_w6\n",
    "                self.b3 -= learn_rate * d_L_d_ypred * d_ypred_d_b3\n",
    "\n",
    "            if  epoch % 10 == 0:\n",
    "                y_preds = np.apply_along_axis(self.feedforward, 1, data)\n",
    "                loss = mse_loss(all_y_trues, y_preds)\n",
    "                print(f\"epoch {epoch} loss: %.3f\" % (loss))"
   ]
  },
  {
   "cell_type": "markdown",
   "metadata": {},
   "source": [
    "### Entering dataset"
   ]
  },
  {
   "cell_type": "code",
   "execution_count": 15,
   "metadata": {},
   "outputs": [],
   "source": [
    "data = np.array([\n",
    "  [-2, -1],  # Alice\n",
    "  [25, 6],   # Bob\n",
    "  [17, 4],   # Charlie\n",
    "  [-15, -6], # Diana\n",
    "])\n",
    "all_y_trues = np.array([\n",
    "  1, # Alice\n",
    "  0, # Bob\n",
    "  0, # Charlie\n",
    "  1, # Diana\n",
    "])"
   ]
  },
  {
   "cell_type": "code",
   "execution_count": 16,
   "metadata": {},
   "outputs": [
    {
     "name": "stdout",
     "output_type": "stream",
     "text": [
      "epoch 0 loss: 0.240\n",
      "epoch 10 loss: 0.137\n",
      "epoch 20 loss: 0.095\n",
      "epoch 30 loss: 0.071\n",
      "epoch 40 loss: 0.056\n",
      "epoch 50 loss: 0.045\n",
      "epoch 60 loss: 0.037\n",
      "epoch 70 loss: 0.031\n",
      "epoch 80 loss: 0.027\n",
      "epoch 90 loss: 0.024\n",
      "epoch 100 loss: 0.021\n",
      "epoch 110 loss: 0.019\n",
      "epoch 120 loss: 0.017\n",
      "epoch 130 loss: 0.015\n",
      "epoch 140 loss: 0.014\n",
      "epoch 150 loss: 0.013\n",
      "epoch 160 loss: 0.012\n",
      "epoch 170 loss: 0.011\n",
      "epoch 180 loss: 0.010\n",
      "epoch 190 loss: 0.010\n",
      "epoch 200 loss: 0.009\n",
      "epoch 210 loss: 0.009\n",
      "epoch 220 loss: 0.008\n",
      "epoch 230 loss: 0.008\n",
      "epoch 240 loss: 0.007\n",
      "epoch 250 loss: 0.007\n",
      "epoch 260 loss: 0.007\n",
      "epoch 270 loss: 0.006\n",
      "epoch 280 loss: 0.006\n",
      "epoch 290 loss: 0.006\n",
      "epoch 300 loss: 0.006\n",
      "epoch 310 loss: 0.006\n",
      "epoch 320 loss: 0.005\n",
      "epoch 330 loss: 0.005\n",
      "epoch 340 loss: 0.005\n",
      "epoch 350 loss: 0.005\n",
      "epoch 360 loss: 0.005\n",
      "epoch 370 loss: 0.004\n",
      "epoch 380 loss: 0.004\n",
      "epoch 390 loss: 0.004\n",
      "epoch 400 loss: 0.004\n",
      "epoch 410 loss: 0.004\n",
      "epoch 420 loss: 0.004\n",
      "epoch 430 loss: 0.004\n",
      "epoch 440 loss: 0.004\n",
      "epoch 450 loss: 0.004\n",
      "epoch 460 loss: 0.004\n",
      "epoch 470 loss: 0.003\n",
      "epoch 480 loss: 0.003\n",
      "epoch 490 loss: 0.003\n",
      "epoch 500 loss: 0.003\n",
      "epoch 510 loss: 0.003\n",
      "epoch 520 loss: 0.003\n",
      "epoch 530 loss: 0.003\n",
      "epoch 540 loss: 0.003\n",
      "epoch 550 loss: 0.003\n",
      "epoch 560 loss: 0.003\n",
      "epoch 570 loss: 0.003\n",
      "epoch 580 loss: 0.003\n",
      "epoch 590 loss: 0.003\n",
      "epoch 600 loss: 0.003\n",
      "epoch 610 loss: 0.003\n",
      "epoch 620 loss: 0.003\n",
      "epoch 630 loss: 0.002\n",
      "epoch 640 loss: 0.002\n",
      "epoch 650 loss: 0.002\n",
      "epoch 660 loss: 0.002\n",
      "epoch 670 loss: 0.002\n",
      "epoch 680 loss: 0.002\n",
      "epoch 690 loss: 0.002\n",
      "epoch 700 loss: 0.002\n",
      "epoch 710 loss: 0.002\n",
      "epoch 720 loss: 0.002\n",
      "epoch 730 loss: 0.002\n",
      "epoch 740 loss: 0.002\n",
      "epoch 750 loss: 0.002\n",
      "epoch 760 loss: 0.002\n",
      "epoch 770 loss: 0.002\n",
      "epoch 780 loss: 0.002\n",
      "epoch 790 loss: 0.002\n",
      "epoch 800 loss: 0.002\n",
      "epoch 810 loss: 0.002\n",
      "epoch 820 loss: 0.002\n",
      "epoch 830 loss: 0.002\n",
      "epoch 840 loss: 0.002\n",
      "epoch 850 loss: 0.002\n",
      "epoch 860 loss: 0.002\n",
      "epoch 870 loss: 0.002\n",
      "epoch 880 loss: 0.002\n",
      "epoch 890 loss: 0.002\n",
      "epoch 900 loss: 0.002\n",
      "epoch 910 loss: 0.002\n",
      "epoch 920 loss: 0.002\n",
      "epoch 930 loss: 0.002\n",
      "epoch 940 loss: 0.002\n",
      "epoch 950 loss: 0.002\n",
      "epoch 960 loss: 0.002\n",
      "epoch 970 loss: 0.002\n",
      "epoch 980 loss: 0.002\n",
      "epoch 990 loss: 0.001\n"
     ]
    }
   ],
   "source": [
    "network = CompleteNeuralNetwork()\n",
    "network.train(data, all_y_trues)"
   ]
  },
  {
   "cell_type": "markdown",
   "metadata": {},
   "source": [
    "## Lets predict"
   ]
  },
  {
   "cell_type": "code",
   "execution_count": 17,
   "metadata": {},
   "outputs": [
    {
     "name": "stdout",
     "output_type": "stream",
     "text": [
      "Emily: 0.968\n",
      "Frank: 0.039\n"
     ]
    }
   ],
   "source": [
    "emily = np.array([-7, -3]) # 128 pounds, 63 inches\n",
    "frank = np.array([20, 2])  # 155 pounds, 68 inches\n",
    "print(\"Emily: %.3f\" % network.feedforward(emily)) # 0.951 - F\n",
    "print(\"Frank: %.3f\" % network.feedforward(frank)) # 0.039 - M"
   ]
  }
 ],
 "metadata": {
  "kernelspec": {
   "display_name": "ml",
   "language": "python",
   "name": "python3"
  },
  "language_info": {
   "codemirror_mode": {
    "name": "ipython",
    "version": 3
   },
   "file_extension": ".py",
   "mimetype": "text/x-python",
   "name": "python",
   "nbconvert_exporter": "python",
   "pygments_lexer": "ipython3",
   "version": "3.12.3"
  }
 },
 "nbformat": 4,
 "nbformat_minor": 2
}
